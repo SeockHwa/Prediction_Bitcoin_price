{
  "nbformat": 4,
  "nbformat_minor": 0,
  "metadata": {
    "colab": {
      "name": "2021_ML_Project_main.ipynb",
      "provenance": [],
      "collapsed_sections": []
    },
    "kernelspec": {
      "name": "python3",
      "display_name": "Python 3"
    },
    "language_info": {
      "name": "python"
    },
    "accelerator": "GPU"
  },
  "cells": [
    {
      "cell_type": "code",
      "metadata": {
        "id": "L0nYQ1F0atIN"
      },
      "source": [
        "import numpy as  np\n",
        "import pandas as pd\n",
        "import pandas_datareader.data as pdr\n",
        "import matplotlib.pyplot as plt\n",
        "\n",
        "import datetime\n",
        "\n",
        "import torch\n",
        "import torch.nn as nn\n",
        "from torch.autograd import Variable\n",
        "\n",
        "import torch.optim as optim\n",
        "from torch.utils.data import Dataset, DataLoader\n",
        "import random\n",
        "\n",
        "random_seed = 42\n",
        "torch.manual_seed(random_seed)\n",
        "torch.backends.cudnn.deterministic = True\n",
        "torch.backends.cudnn.benchmark = False\n",
        "\n",
        "np.random.seed(random_seed)\n",
        "random.seed(random_seed)\n",
        "torch.cuda.manual_seed(random_seed)\n",
        "torch.cuda.manual_seed_all(random_seed) # multi-GPU"
      ],
      "execution_count": null,
      "outputs": []
    },
    {
      "cell_type": "code",
      "metadata": {
        "colab": {
          "base_uri": "https://localhost:8080/"
        },
        "id": "ezXZ0NX6chk3",
        "outputId": "c3cda26e-be0c-4685-aa05-9a9acb545bd3"
      },
      "source": [
        "from google.colab import drive\n",
        "drive.mount('/content/gdrive')"
      ],
      "execution_count": null,
      "outputs": [
        {
          "output_type": "stream",
          "text": [
            "Drive already mounted at /content/gdrive; to attempt to forcibly remount, call drive.mount(\"/content/gdrive\", force_remount=True).\n"
          ],
          "name": "stdout"
        }
      ]
    },
    {
      "cell_type": "markdown",
      "metadata": {
        "id": "zHqoqXOUoHWG"
      },
      "source": [
        "##Data Load"
      ]
    },
    {
      "cell_type": "code",
      "metadata": {
        "colab": {
          "base_uri": "https://localhost:8080/",
          "height": 195
        },
        "id": "DFIoHca0atLZ",
        "outputId": "78bb554c-c181-4d97-c638-479d97f2df4e"
      },
      "source": [
        "bitcoin_dataset_path1 = \"/content/gdrive/MyDrive/ML/dataset/bitcoin_stock.csv\"\n",
        "bitcoin_dataset_path2 = \"/content/gdrive/MyDrive/ML/dataset/bitcoin.csv\"\n",
        "bitcoin_dataset_path3 = \"/content/gdrive/MyDrive/ML/dataset/bitcoin_stock_twitter_test.csv\"\n",
        "bitcoin_dataset_path4 = \"/content/gdrive/MyDrive/ML/dataset/bitcoin_stock_test.csv\"\n",
        "bitcoin_dataset_path5 = \"/content/gdrive/MyDrive/ML/dataset/bitcoin_stock_twitter.csv\"\n",
        "bitcoin_dataset_path6 = \"/content/gdrive/MyDrive/ML/dataset/bitcoin_stock_twitter_average.csv\"\n",
        "bitcoin_dataset_path7 = \"/content/gdrive/MyDrive/ML/dataset/bitcoin_only_twitter.csv\"\n",
        "data = pd.read_csv(bitcoin_dataset_path7)\n",
        "data.head()"
      ],
      "execution_count": null,
      "outputs": [
        {
          "output_type": "execute_result",
          "data": {
            "text/html": [
              "<div>\n",
              "<style scoped>\n",
              "    .dataframe tbody tr th:only-of-type {\n",
              "        vertical-align: middle;\n",
              "    }\n",
              "\n",
              "    .dataframe tbody tr th {\n",
              "        vertical-align: top;\n",
              "    }\n",
              "\n",
              "    .dataframe thead th {\n",
              "        text-align: right;\n",
              "    }\n",
              "</style>\n",
              "<table border=\"1\" class=\"dataframe\">\n",
              "  <thead>\n",
              "    <tr style=\"text-align: right;\">\n",
              "      <th></th>\n",
              "      <th>Date</th>\n",
              "      <th>Open</th>\n",
              "      <th>High</th>\n",
              "      <th>Low</th>\n",
              "      <th>Close</th>\n",
              "      <th>Volume</th>\n",
              "      <th>Market Cap</th>\n",
              "      <th>Twitter_senti</th>\n",
              "    </tr>\n",
              "  </thead>\n",
              "  <tbody>\n",
              "    <tr>\n",
              "      <th>0</th>\n",
              "      <td>2019-05-18</td>\n",
              "      <td>7341.66</td>\n",
              "      <td>7447.27</td>\n",
              "      <td>7251.50</td>\n",
              "      <td>7271.21</td>\n",
              "      <td>2.135429e+10</td>\n",
              "      <td>1.290000e+11</td>\n",
              "      <td>0.252469</td>\n",
              "    </tr>\n",
              "    <tr>\n",
              "      <th>1</th>\n",
              "      <td>2019-05-19</td>\n",
              "      <td>7267.96</td>\n",
              "      <td>8261.94</td>\n",
              "      <td>7267.96</td>\n",
              "      <td>8197.69</td>\n",
              "      <td>2.590242e+10</td>\n",
              "      <td>1.450000e+11</td>\n",
              "      <td>0.257857</td>\n",
              "    </tr>\n",
              "    <tr>\n",
              "      <th>2</th>\n",
              "      <td>2019-05-20</td>\n",
              "      <td>8196.92</td>\n",
              "      <td>8200.97</td>\n",
              "      <td>7678.78</td>\n",
              "      <td>7978.31</td>\n",
              "      <td>2.384340e+10</td>\n",
              "      <td>1.410000e+11</td>\n",
              "      <td>0.191179</td>\n",
              "    </tr>\n",
              "    <tr>\n",
              "      <th>3</th>\n",
              "      <td>2019-05-21</td>\n",
              "      <td>7977.97</td>\n",
              "      <td>8062.17</td>\n",
              "      <td>7843.34</td>\n",
              "      <td>7963.33</td>\n",
              "      <td>2.512725e+10</td>\n",
              "      <td>1.410000e+11</td>\n",
              "      <td>0.216300</td>\n",
              "    </tr>\n",
              "    <tr>\n",
              "      <th>4</th>\n",
              "      <td>2019-05-22</td>\n",
              "      <td>7956.29</td>\n",
              "      <td>7997.61</td>\n",
              "      <td>7615.99</td>\n",
              "      <td>7680.07</td>\n",
              "      <td>2.471947e+10</td>\n",
              "      <td>1.360000e+11</td>\n",
              "      <td>0.230968</td>\n",
              "    </tr>\n",
              "  </tbody>\n",
              "</table>\n",
              "</div>"
            ],
            "text/plain": [
              "         Date     Open     High  ...        Volume    Market Cap  Twitter_senti\n",
              "0  2019-05-18  7341.66  7447.27  ...  2.135429e+10  1.290000e+11       0.252469\n",
              "1  2019-05-19  7267.96  8261.94  ...  2.590242e+10  1.450000e+11       0.257857\n",
              "2  2019-05-20  8196.92  8200.97  ...  2.384340e+10  1.410000e+11       0.191179\n",
              "3  2019-05-21  7977.97  8062.17  ...  2.512725e+10  1.410000e+11       0.216300\n",
              "4  2019-05-22  7956.29  7997.61  ...  2.471947e+10  1.360000e+11       0.230968\n",
              "\n",
              "[5 rows x 8 columns]"
            ]
          },
          "metadata": {
            "tags": []
          },
          "execution_count": 3
        }
      ]
    },
    {
      "cell_type": "code",
      "metadata": {
        "id": "-Bbv1774dzUO"
      },
      "source": [
        "df = pd.DataFrame(data)\n",
        "df.set_index('Date', inplace=True)\n",
        "high_price = data['High'].values\n",
        "low_price = data['Low'].values\n",
        "close_price = data['Close'].values"
      ],
      "execution_count": null,
      "outputs": []
    },
    {
      "cell_type": "code",
      "metadata": {
        "colab": {
          "base_uri": "https://localhost:8080/",
          "height": 265
        },
        "id": "ri8i-Xpciye6",
        "outputId": "298558d0-4f9f-4059-c52b-eb0123093812"
      },
      "source": [
        "close_price_df = pd.DataFrame(close_price)\n",
        "plt.plot(close_price_df, label='Close price')\n",
        "plt.legend()\n",
        "plt.show()"
      ],
      "execution_count": null,
      "outputs": [
        {
          "output_type": "display_data",
          "data": {
            "image/png": "[encoded data removed]",
            "text/plain": [
              "<Figure size 432x288 with 1 Axes>"
            ]
          },
          "metadata": {
            "tags": [],
            "needs_background": "light"
          }
        }
      ]
    },
    {
      "cell_type": "code",
      "metadata": {
        "colab": {
          "base_uri": "https://localhost:8080/"
        },
        "id": "pLoSf_YOzSDg",
        "outputId": "27a6e27c-b5e5-4bbe-905e-51441a95f9b6"
      },
      "source": [
        "df = df.drop(columns='Volume')\n",
        "df = df.drop(columns='Market Cap')\n",
        "X = df\n",
        "y = df.iloc[:, 3:4]\n",
        "\n",
        "print(X)\n",
        "print(y)"
      ],
      "execution_count": null,
      "outputs": [
        {
          "output_type": "stream",
          "text": [
            "                Open      High       Low     Close  Twitter_senti\n",
            "Date                                                             \n",
            "2019-05-18   7341.66   7447.27   7251.50   7271.21       0.252469\n",
            "2019-05-19   7267.96   8261.94   7267.96   8197.69       0.257857\n",
            "2019-05-20   8196.92   8200.97   7678.78   7978.31       0.191179\n",
            "2019-05-21   7977.97   8062.17   7843.34   7963.33       0.216300\n",
            "2019-05-22   7956.29   7997.61   7615.99   7680.07       0.230968\n",
            "...              ...       ...       ...       ...            ...\n",
            "2021-05-12  56714.53  57939.36  49150.53  49150.53       0.317815\n",
            "2021-05-13  49735.43  51330.84  46980.02  49716.19       0.317815\n",
            "2021-05-14  49682.98  51438.12  48868.58  49880.53       0.317815\n",
            "2021-05-15  49855.49  50639.67  46664.14  46760.19       0.317815\n",
            "2021-05-16  46716.64  49720.04  43963.35  46456.06       0.317815\n",
            "\n",
            "[730 rows x 5 columns]\n",
            "               Close\n",
            "Date                \n",
            "2019-05-18   7271.21\n",
            "2019-05-19   8197.69\n",
            "2019-05-20   7978.31\n",
            "2019-05-21   7963.33\n",
            "2019-05-22   7680.07\n",
            "...              ...\n",
            "2021-05-12  49150.53\n",
            "2021-05-13  49716.19\n",
            "2021-05-14  49880.53\n",
            "2021-05-15  46760.19\n",
            "2021-05-16  46456.06\n",
            "\n",
            "[730 rows x 1 columns]\n"
          ],
          "name": "stdout"
        }
      ]
    },
    {
      "cell_type": "markdown",
      "metadata": {
        "id": "3_mw6G4boC-u"
      },
      "source": [
        "##Data Normalization"
      ]
    },
    {
      "cell_type": "code",
      "metadata": {
        "colab": {
          "base_uri": "https://localhost:8080/"
        },
        "id": "jLiAxzQzzU2W",
        "outputId": "5ac90b81-4acb-4a07-8050-6602833630e7"
      },
      "source": [
        "from sklearn.preprocessing import StandardScaler, MinMaxScaler\n",
        "mm = MinMaxScaler()\n",
        "ss = StandardScaler()\n",
        "\n",
        "X_ss = ss.fit_transform(X)\n",
        "y_mm = mm.fit_transform(y) \n",
        "\n",
        "# Train Data\n",
        "X_train = X_ss[:680, :]\n",
        "X_test = X_ss[680:, :]\n",
        "\n",
        "# Test Data \n",
        "y_train = y_mm[:680, :]\n",
        "y_test = y_mm[680:, :] \n",
        "\n",
        "print(\"Training Shape\", X_train.shape, y_train.shape)\n",
        "print(\"Testing Shape\", X_test.shape, y_test.shape) "
      ],
      "execution_count": null,
      "outputs": [
        {
          "output_type": "stream",
          "text": [
            "Training Shape (680, 5) (680, 1)\n",
            "Testing Shape (50, 5) (50, 1)\n"
          ],
          "name": "stdout"
        }
      ]
    },
    {
      "cell_type": "code",
      "metadata": {
        "colab": {
          "base_uri": "https://localhost:8080/"
        },
        "id": "Vloj8H8yzWKf",
        "outputId": "e0694dcf-3e2b-4597-94c9-134c62704b5d"
      },
      "source": [
        "X_train_tensors = Variable(torch.Tensor(X_train))\n",
        "X_test_tensors = Variable(torch.Tensor(X_test))\n",
        "\n",
        "y_train_tensors = Variable(torch.Tensor(y_train))\n",
        "y_test_tensors = Variable(torch.Tensor(y_test))\n",
        "\n",
        "X_train_tensors_final = torch.reshape(X_train_tensors,   (X_train_tensors.shape[0], 1, X_train_tensors.shape[1]))\n",
        "X_test_tensors_final = torch.reshape(X_test_tensors,  (X_test_tensors.shape[0], 1, X_test_tensors.shape[1])) \n",
        "\n",
        "print(\"Training Shape\", X_train_tensors_final.shape, y_train_tensors.shape)\n",
        "print(\"Testing Shape\", X_test_tensors_final.shape, y_test_tensors.shape) "
      ],
      "execution_count": null,
      "outputs": [
        {
          "output_type": "stream",
          "text": [
            "Training Shape torch.Size([680, 1, 5]) torch.Size([680, 1])\n",
            "Testing Shape torch.Size([50, 1, 5]) torch.Size([50, 1])\n"
          ],
          "name": "stdout"
        }
      ]
    },
    {
      "cell_type": "markdown",
      "metadata": {
        "id": "V-HTQn9JoO3A"
      },
      "source": [
        "##LSTM Model"
      ]
    },
    {
      "cell_type": "code",
      "metadata": {
        "id": "z7jzT2T3zX3u"
      },
      "source": [
        "class MYLSTM(nn.Module):\n",
        "  def __init__(self, input_size, hidden_size, num_layers):\n",
        "    super(MYLSTM, self).__init__()\n",
        "    self.num_layers = num_layers #number of layers\n",
        "    self.input_size = input_size #input size\n",
        "    self.hidden_size = hidden_size #hidden state \n",
        " \n",
        "    self.lstm = nn.LSTM(input_size=input_size, hidden_size=hidden_size, num_layers=num_layers, batch_first=True) #lstm\n",
        "    self.fc1 =  nn.Linear(hidden_size, 256) #fully connected \n",
        "    self.fc2 = nn.Linear(256, 1) #fully connected last layer\n",
        "    self.relu = nn.ReLU() \n",
        "\n",
        "  def forward(self,x):\n",
        "    h_0 = Variable(torch.zeros(self.num_layers, x.size(0), self.hidden_size)) #hidden state\n",
        "    c_0 = Variable(torch.zeros(self.num_layers, x.size(0), self.hidden_size)) #internal state   \n",
        "    # Propagate input through LSTM\n",
        "\n",
        "    output, (hn, cn) = self.lstm(x, (h_0, c_0)) #lstm with input, hidden, and internal state\n",
        "   \n",
        "    hn = hn.view(-1, self.hidden_size) #reshaping the data for Dense layer next\n",
        "    out = self.relu(hn)\n",
        "    out = self.fc1(out) #first Dense\n",
        "    out = self.relu(out) #relu\n",
        "    out = self.fc2(out) #Final Output\n",
        "   \n",
        "    return out "
      ],
      "execution_count": null,
      "outputs": []
    },
    {
      "cell_type": "markdown",
      "metadata": {
        "id": "44AbygOeoaZ6"
      },
      "source": [
        "##Train"
      ]
    },
    {
      "cell_type": "code",
      "metadata": {
        "id": "Ve9aii1ezZVe"
      },
      "source": [
        "num_epochs = 3000 \n",
        "learning_rate = 0.00001 \n",
        "\n",
        "input_size = 5 #number of features\n",
        "hidden_size = 30 #number of features in hidden state\n",
        "num_layers = 1 #number of stacked lstm layers\n",
        "\n",
        "lstm = MYLSTM(input_size, hidden_size, num_layers)\n",
        "loss_function = torch.nn.MSELoss()    # mean-squared error for regression\n",
        "optimizer = torch.optim.Adam(lstm.parameters(), lr=learning_rate)  # adam optimizer"
      ],
      "execution_count": null,
      "outputs": []
    },
    {
      "cell_type": "code",
      "metadata": {
        "colab": {
          "base_uri": "https://localhost:8080/"
        },
        "id": "0gbJ7RNIzaq-",
        "outputId": "bf33b5fc-63fd-44b3-bc84-aded35d29cd8"
      },
      "source": [
        "for epoch in range(num_epochs):\n",
        "  outputs = lstm.forward(X_train_tensors_final) #forward pass\n",
        "  optimizer.zero_grad() #caluclate the gradient, manually setting to 0\n",
        " \n",
        "  # obtain the loss function\n",
        "  loss = loss_function(outputs, y_train_tensors)\n",
        "\n",
        "  loss.backward() #calculates the loss of the loss function\n",
        " \n",
        "  optimizer.step() #improve from loss, i.e backprop\n",
        "  if epoch % 100 == 0:\n",
        "    print(\"Epoch: %d, loss: %1.5f\" % (epoch, loss.item())) "
      ],
      "execution_count": null,
      "outputs": [
        {
          "output_type": "stream",
          "text": [
            "Epoch: 0, loss: 0.07857\n",
            "Epoch: 100, loss: 0.07171\n",
            "Epoch: 200, loss: 0.06570\n",
            "Epoch: 300, loss: 0.06042\n",
            "Epoch: 400, loss: 0.05577\n",
            "Epoch: 500, loss: 0.05168\n",
            "Epoch: 600, loss: 0.04807\n",
            "Epoch: 700, loss: 0.04483\n",
            "Epoch: 800, loss: 0.04192\n",
            "Epoch: 900, loss: 0.03922\n",
            "Epoch: 1000, loss: 0.03667\n",
            "Epoch: 1100, loss: 0.03421\n",
            "Epoch: 1200, loss: 0.03181\n",
            "Epoch: 1300, loss: 0.02948\n",
            "Epoch: 1400, loss: 0.02720\n",
            "Epoch: 1500, loss: 0.02496\n",
            "Epoch: 1600, loss: 0.02275\n",
            "Epoch: 1700, loss: 0.02055\n",
            "Epoch: 1800, loss: 0.01838\n",
            "Epoch: 1900, loss: 0.01623\n",
            "Epoch: 2000, loss: 0.01416\n",
            "Epoch: 2100, loss: 0.01219\n",
            "Epoch: 2200, loss: 0.01033\n",
            "Epoch: 2300, loss: 0.00862\n",
            "Epoch: 2400, loss: 0.00707\n",
            "Epoch: 2500, loss: 0.00569\n",
            "Epoch: 2600, loss: 0.00450\n",
            "Epoch: 2700, loss: 0.00350\n",
            "Epoch: 2800, loss: 0.00266\n",
            "Epoch: 2900, loss: 0.00199\n"
          ],
          "name": "stdout"
        }
      ]
    },
    {
      "cell_type": "markdown",
      "metadata": {
        "id": "eu_lTruPomxv"
      },
      "source": [
        "##Result"
      ]
    },
    {
      "cell_type": "code",
      "metadata": {
        "id": "gHiroC-kpp31"
      },
      "source": [
        "from sklearn.metrics import accuracy_score\n",
        "\n",
        "df_X_ss = ss.transform(df)\n",
        "df_y_mm = mm.transform(df.iloc[:, 3:4])\n",
        "\n",
        "df_X_ss = Variable(torch.Tensor(df_X_ss)) #converting to Tensors\n",
        "df_y_mm = Variable(torch.Tensor(df_y_mm))\n",
        "#reshaping the dataset\n",
        "df_X_ss = torch.reshape(df_X_ss, (df_X_ss.shape[0], 1, df_X_ss.shape[1]))\n",
        "train_predict = lstm(df_X_ss)#forward pass\n",
        "data_predict = train_predict.data.detach().cpu().numpy() #numpy conversion\n",
        "dataY_plot = df_y_mm.data.numpy()\n",
        "\n",
        "data_predict = mm.inverse_transform(data_predict) #reverse transformation\n",
        "dataY_plot = mm.inverse_transform(dataY_plot)"
      ],
      "execution_count": null,
      "outputs": []
    },
    {
      "cell_type": "code",
      "metadata": {
        "colab": {
          "base_uri": "https://localhost:8080/"
        },
        "id": "JE7luYPIzb9V",
        "outputId": "2db46319-d82e-4bec-ecb4-2974a171f326"
      },
      "source": [
        "data_predict_trans = data_predict[680:, :]\n",
        "data_actual_trans = dataY_plot[680:, :]\n",
        "actual_average = data_actual_trans.mean()\n",
        "accuracy = (abs(data_predict_trans - data_actual_trans) / data_actual_trans) * 100\n",
        "#accuracy = (data_predict_trans / data_actual_trans)*100  \n",
        "#print(accuracy.mean())\n",
        "print(100 - accuracy.mean())"
      ],
      "execution_count": null,
      "outputs": [
        {
          "output_type": "stream",
          "text": [
            "89.243896484375\n"
          ],
          "name": "stdout"
        }
      ]
    },
    {
      "cell_type": "code",
      "metadata": {
        "colab": {
          "base_uri": "https://localhost:8080/",
          "height": 390
        },
        "id": "EMectglNqyMK",
        "outputId": "2cffc551-1146-445c-83e5-b87010abab45"
      },
      "source": [
        "plt.figure(figsize=(10,6)) #plotting\n",
        "plt.axvline(x=680, c='r', linestyle='--') #size of the training set\n",
        "plt.plot(dataY_plot, label='Actuall Data') #actual plot\n",
        "plt.plot(data_predict, label='Predicted Data') #predicted plot\n",
        "plt.title('Prediction of Bitcoin price')\n",
        "plt.legend()\n",
        "plt.show() "
      ],
      "execution_count": null,
      "outputs": [
        {
          "output_type": "display_data",
          "data": {
            "image/png": "[encoded data removed]",
            "text/plain": [
              "<Figure size 720x432 with 1 Axes>"
            ]
          },
          "metadata": {
            "tags": [],
            "needs_background": "light"
          }
        }
      ]
    }
  ]
}